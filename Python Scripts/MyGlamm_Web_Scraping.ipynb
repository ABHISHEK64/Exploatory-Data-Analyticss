{
 "cells": [
  {
   "cell_type": "code",
   "execution_count": 2,
   "id": "37248986",
   "metadata": {},
   "outputs": [
    {
     "name": "stdout",
     "output_type": "stream",
     "text": [
      "Collecting schedule\n",
      "  Obtaining dependency information for schedule from https://files.pythonhosted.org/packages/f0/1a/e5a65c08d708ee4c002f3f938ba69b2282af478755700c40f037eacc92ef/schedule-1.2.1-py2.py3-none-any.whl.metadata\n",
      "  Downloading schedule-1.2.1-py2.py3-none-any.whl.metadata (3.3 kB)\n",
      "Downloading schedule-1.2.1-py2.py3-none-any.whl (11 kB)\n",
      "Installing collected packages: schedule\n",
      "Successfully installed schedule-1.2.1\n"
     ]
    }
   ],
   "source": [
    "!pip install schedule"
   ]
  },
  {
   "cell_type": "code",
   "execution_count": 7,
   "id": "a7316673",
   "metadata": {},
   "outputs": [
    {
     "ename": "ScheduleValueError",
     "evalue": "Invalid time format for a daily job (valid format is HH:MM(:SS)?)",
     "output_type": "error",
     "traceback": [
      "\u001b[1;31m---------------------------------------------------------------------------\u001b[0m",
      "\u001b[1;31mScheduleValueError\u001b[0m                        Traceback (most recent call last)",
      "Cell \u001b[1;32mIn[7], line 172\u001b[0m\n\u001b[0;32m    170\u001b[0m         df\u001b[38;5;241m.\u001b[39mstyle\u001b[38;5;241m.\u001b[39mformat({\u001b[38;5;124m'\u001b[39m\u001b[38;5;124mProduct_link\u001b[39m\u001b[38;5;124m'\u001b[39m: make_clickable})\n\u001b[0;32m    171\u001b[0m         \u001b[38;5;28mprint\u001b[39m(df\u001b[38;5;241m.\u001b[39mto_csv(\u001b[38;5;124m'\u001b[39m\u001b[38;5;124mmakup_bath.csv\u001b[39m\u001b[38;5;124m'\u001b[39m,index\u001b[38;5;241m=\u001b[39m\u001b[38;5;124m'\u001b[39m\u001b[38;5;124mTrue\u001b[39m\u001b[38;5;124m'\u001b[39m))\n\u001b[1;32m--> 172\u001b[0m schedule\u001b[38;5;241m.\u001b[39mevery()\u001b[38;5;241m.\u001b[39mday\u001b[38;5;241m.\u001b[39mat(\u001b[38;5;124m\"\u001b[39m\u001b[38;5;124m9:47:00\u001b[39m\u001b[38;5;124m\"\u001b[39m)\u001b[38;5;241m.\u001b[39mdo(job)\n\u001b[0;32m    174\u001b[0m \u001b[38;5;28;01mwhile\u001b[39;00m \u001b[38;5;28;01mTrue\u001b[39;00m:\n\u001b[0;32m    175\u001b[0m     schedule\u001b[38;5;241m.\u001b[39mrun_pending()\n",
      "File \u001b[1;32m~\\anaconda3\\Lib\\site-packages\\schedule\\__init__.py:516\u001b[0m, in \u001b[0;36mJob.at\u001b[1;34m(self, time_str, tz)\u001b[0m\n\u001b[0;32m    514\u001b[0m \u001b[38;5;28;01mif\u001b[39;00m \u001b[38;5;28mself\u001b[39m\u001b[38;5;241m.\u001b[39munit \u001b[38;5;241m==\u001b[39m \u001b[38;5;124m\"\u001b[39m\u001b[38;5;124mdays\u001b[39m\u001b[38;5;124m\"\u001b[39m \u001b[38;5;129;01mor\u001b[39;00m \u001b[38;5;28mself\u001b[39m\u001b[38;5;241m.\u001b[39mstart_day:\n\u001b[0;32m    515\u001b[0m     \u001b[38;5;28;01mif\u001b[39;00m \u001b[38;5;129;01mnot\u001b[39;00m re\u001b[38;5;241m.\u001b[39mmatch(\u001b[38;5;124mr\u001b[39m\u001b[38;5;124m\"\u001b[39m\u001b[38;5;124m^[0-2]\u001b[39m\u001b[38;5;124m\\\u001b[39m\u001b[38;5;124md:[0-5]\u001b[39m\u001b[38;5;124m\\\u001b[39m\u001b[38;5;124md(:[0-5]\u001b[39m\u001b[38;5;124m\\\u001b[39m\u001b[38;5;124md)?$\u001b[39m\u001b[38;5;124m\"\u001b[39m, time_str):\n\u001b[1;32m--> 516\u001b[0m         \u001b[38;5;28;01mraise\u001b[39;00m ScheduleValueError(\n\u001b[0;32m    517\u001b[0m             \u001b[38;5;124m\"\u001b[39m\u001b[38;5;124mInvalid time format for a daily job (valid format is HH:MM(:SS)?)\u001b[39m\u001b[38;5;124m\"\u001b[39m\n\u001b[0;32m    518\u001b[0m         )\n\u001b[0;32m    519\u001b[0m \u001b[38;5;28;01mif\u001b[39;00m \u001b[38;5;28mself\u001b[39m\u001b[38;5;241m.\u001b[39munit \u001b[38;5;241m==\u001b[39m \u001b[38;5;124m\"\u001b[39m\u001b[38;5;124mhours\u001b[39m\u001b[38;5;124m\"\u001b[39m:\n\u001b[0;32m    520\u001b[0m     \u001b[38;5;28;01mif\u001b[39;00m \u001b[38;5;129;01mnot\u001b[39;00m re\u001b[38;5;241m.\u001b[39mmatch(\u001b[38;5;124mr\u001b[39m\u001b[38;5;124m\"\u001b[39m\u001b[38;5;124m^([0-5]\u001b[39m\u001b[38;5;124m\\\u001b[39m\u001b[38;5;124md)?:[0-5]\u001b[39m\u001b[38;5;124m\\\u001b[39m\u001b[38;5;124md$\u001b[39m\u001b[38;5;124m\"\u001b[39m, time_str):\n",
      "\u001b[1;31mScheduleValueError\u001b[0m: Invalid time format for a daily job (valid format is HH:MM(:SS)?)"
     ]
    }
   ],
   "source": [
    "import numpy as np\n",
    "import pandas as pd\n",
    "import schedule\n",
    "\n",
    import numpy as np
import pandas as pd
import schedule

import requests
from bs4 import BeautifulSoup
from selenium import webdriver
from selenium.webdriver.common.by import By
from selenium.webdriver.common.keys import Keys
from selenium.webdriver.chrome.service import Service
from selenium.common.exceptions import WebDriverException
from selenium.webdriver.support.ui import WebDriverWait, Select
from selenium.webdriver.support import expected_conditions as EC
import time
import datetime
import markdown
from selenium import webdriver
from selenium.common.exceptions import TimeoutException
def job():
        def get_prod_title(product_soup):
            try:
                product_name=product_soup.find('h1',attrs={'class':'font-bold pt-3 mb-2.5 text-2xl'}).text
            except AttributeError:
                product_name=""
            return product_name
        def get_prod_sell_price(product_soup):
            try:
                product_sell_price=product_soup.find('span',attrs={'class':'text-2xl uppercase'}).text.replace('₹','')
            except AttributeError:
                product_sell_price=""
            return product_sell_price
        def get_prod_mark_price(product_soup):
            try:
                product_mark_price=product_soup.find('del',attrs={'class':'text-22 text-gray-400 ml-1'}).text.replace('₹','')
            except AttributeError:
                product_mark_price=""
            return product_mark_price
        def get_prod_rating(product_soup):
            try:
                product_ratings=product_soup.find('span',attrs={'class':'font-bold text-18 flex items-center'}).text+'ratings'
            except AttributeError:
                product_ratings=""
            return product_ratings
        def get_prod_net_weight(product_soup):
            try:
                product_net_weight=product_soup.find_all('span',attrs={'style':"font-family: din-2014, sans-serif; font-size: 12pt;"})[2].text.replace('Net Weight:\xa0','')
            except AttributeError:
                product_net_weight=" "
            return product_net_weight
        def get_prod_gen_name(product_soup):
            try:
                product_general_name=product_soup.find_all('span',attrs={'style':"font-family: din-2014, sans-serif; font-size: 12pt;"})[7].text.replace('Generic product name:\xa0','')
            except AttributeError:
                product_general_name=""
            return product_general_name
        def make_clickable(val):
            return f'<a target="_blank"href="{val}">{val}</a>'
        def Total_User(product_soup):
            try:
                Total_User=''
                Total_User=product_soup.find('div',attrs={'class':"flex items-center mb-2"}).find_all('span')[1].text.replace('\xa0ratings','')
            except:
                Total_User=""
            return Total_User
        def Product_subcategory1(product_soup):
            try:
                Product_subcategory1=" "
                Product_subcategory1=product_soup.find('div',attrs={'class':"uppercase py-3 border-b border-gray-300 text-xs flex items-center justify-center rounded tracking-widest"}).find_all('a')[2].text
            except:
                Product_subcategory1=" "
            return Product_subcategory1
        def Product_subcategory2(product_soup):
            try:
                Product_subcategory2=" "
                Product_subcategory2=product_soup.find('div',attrs={'class':"uppercase py-3 border-b border-gray-300 text-xs flex items-center justify-center rounded tracking-widest"}).find_all('a')[3].text
            except:
                Product_subcategory2=" "
            return Product_subcategory2
        def Product_desc(product_soup):
            try:
                Product_desc=driver.find_element_by_xpath('//*[@id="__next"]/div/div[1]/main/section/div[2]/div/section[1]/div').text

            except:
                Product_desc=''
            return Product_desc
        def Product_ingredient(product_soup):
            try:
                Product_ing=driver.find_element_by_xpath('//*[@id="__next"]/div/div[1]/main/section/div[2]/div/section[2]/div').text

            except:
                Product_ing=''
            return Product_ing

        def Product_Availbility(product_soup):
            try:
                Product_Availbility=driver.find_element_by_xpath('//*[@id="__next"]/div/div[1]/main/section/div[2]/div/div[4]/button').text

            except:
                Product_Availbility='Notify'
            return Product_Availbility

        def Product_shade(product_soup):
            try:
                options = product_soup.find_all('img',attrs={'class':"ImgComponent ImgFadeIn",'width':"48",'height':"48"})
                prod_share=[]
                for op in options:
                    prod_share.append(op.get('alt'))
                print(prod_share)
            except:
                options='No optinal available'
            if(len(prod_share)==0):    
                return options
            else:
                return prod_share



        categories = ['makeup','bath-and-body','hair-care','skincare','sanitizing-care']
        product_dic = {'Product_Category': [], 'Product_Name': [], 'Prodcut_Selling_Price': [], 'Prodcut_Mark_Price': [],
                   'Product_Rating': [], 'Product_link': [], 'Total_User': [], 'Product_subcategory1': [],
                   'Product_subcategory2': [], 'Product_Variety': [], 'Product_Availbility': []

                   }
        path = "C:\Chrome_Driver\chromedriver-win32\chromedriver.exe"
        s = Service(path)
        options = webdriver.ChromeOptions()
        options.add_experimental_option("detach",True)
        driver = webdriver.Chrome(service=s,options=options)
        try:
            for cat in categories:
                url = 'https://www.myglamm.com/buy/'
                webpage = driver.get(url + cat)
                time.sleep(10)
                Scroll_count = 30
                for i in range(Scroll_count):
                    driver.execute_script("window.scrollTo(0, document.body.scrollHeight)")
                    time.sleep(3)
                    driver.execute_script("window.scrollTo(document.body.scrollHeight,(document.body.scrollHeight)/2)")
                    time.sleep(3)
                soup = BeautifulSoup(driver.page_source, 'html.parser')
                Height = driver.execute_script("return document.body.scrollHeight")
                driver.execute_script("window.scrollTo(0,document.body.scrollHeight)")
                links = soup.find_all('a', attrs='p-5 border border-gray-300 mb-2')
                links_list = []
                for link in links:
                    links_list.append(link.get('href'))
                for link in links_list:
                    product_detail = 'https://www.myglamm.com' + link
                    product_webpage = driver.get(product_detail)
                    time.sleep(10)
                    product_soup = BeautifulSoup(driver.page_source, 'html.parser')
                    product_dic['Product_Name'].append(get_prod_title(product_soup))
                    product_dic['Prodcut_Selling_Price'].append(get_prod_sell_price(product_soup))
                    product_dic['Prodcut_Mark_Price'].append(get_prod_mark_price(product_soup))
                    product_dic['Product_Rating'].append(get_prod_rating(product_soup))
                    product_dic['Product_Category'].append(cat)
                    product_dic['Product_link'].append(product_detail)
                    product_dic['Total_User'].append(Total_User(product_soup))
                    product_dic['Product_subcategory1'].append(Product_subcategory1(product_soup))
                    product_dic['Product_subcategory2'].append(Product_subcategory2(product_soup))
                    product_dic['Product_Variety'].append(Product_shade(product_soup))
                    product_dic['Product_Availbility'].append(Product_Availbility(product_soup))
                
        except WebDriverException as e:
            print(f"WebDriverException occurred: {e}")
        finally:
            driver.quit()
        df = pd.DataFrame(product_dic)

        df.style.format({'Product_link': make_clickable})
        print(df.to_csv('makup_bath.csv',index='True'))
job()
   ]
  },
  {
   "cell_type": "code",
   "execution_count": 4,
   "id": "0f0ce7ef",
   "metadata": {},
   "outputs": [
    {
     "data": {
      "text/html": [
       "<div>\n",
       "<style scoped>\n",
       "    .dataframe tbody tr th:only-of-type {\n",
       "        vertical-align: middle;\n",
       "    }\n",
       "\n",
       "    .dataframe tbody tr th {\n",
       "        vertical-align: top;\n",
       "    }\n",
       "\n",
       "    .dataframe thead th {\n",
       "        text-align: right;\n",
       "    }\n",
       "</style>\n",
       "<table border=\"1\" class=\"dataframe\">\n",
       "  <thead>\n",
       "    <tr style=\"text-align: right;\">\n",
       "      <th></th>\n",
       "      <th>Product_Category</th>\n",
       "      <th>Product_Name</th>\n",
       "      <th>Prodcut_Selling_Price</th>\n",
       "      <th>Prodcut_Mark_Price</th>\n",
       "      <th>Product_Rating</th>\n",
       "      <th>Product_link</th>\n",
       "      <th>Total_User</th>\n",
       "      <th>Product_subcategory1</th>\n",
       "      <th>Product_subcategory2</th>\n",
       "      <th>Product_Variety</th>\n",
       "      <th>Product_Availbility</th>\n",
       "    </tr>\n",
       "  </thead>\n",
       "  <tbody>\n",
       "    <tr>\n",
       "      <th>0</th>\n",
       "      <td>makeup</td>\n",
       "      <td></td>\n",
       "      <td></td>\n",
       "      <td></td>\n",
       "      <td></td>\n",
       "      <td>https://www.myglamm.com/product/lit-liquid-mat...</td>\n",
       "      <td></td>\n",
       "      <td></td>\n",
       "      <td></td>\n",
       "      <td>[]</td>\n",
       "      <td>Notify</td>\n",
       "    </tr>\n",
       "    <tr>\n",
       "      <th>1</th>\n",
       "      <td>makeup</td>\n",
       "      <td>LIT Velvet Matte Liquid Lipstick - Fake ID (Ma...</td>\n",
       "      <td>299</td>\n",
       "      <td>375</td>\n",
       "      <td>5 ratings</td>\n",
       "      <td>https://www.myglamm.com/product/lit-velvet-mat...</td>\n",
       "      <td>3964</td>\n",
       "      <td>Lip Makeup</td>\n",
       "      <td>Liquid Lipstick</td>\n",
       "      <td>[Fake ID, My Oh My, Yummy, Bad Guy, Senorita, ...</td>\n",
       "      <td>ADD TO BAG</td>\n",
       "    </tr>\n",
       "    <tr>\n",
       "      <th>2</th>\n",
       "      <td>makeup</td>\n",
       "      <td>Pack of 2 Lipstick and Chromantic Nail Paint</td>\n",
       "      <td>999</td>\n",
       "      <td></td>\n",
       "      <td>5 ratings</td>\n",
       "      <td>https://www.myglamm.com/product/pack-of-2-lips...</td>\n",
       "      <td>66</td>\n",
       "      <td></td>\n",
       "      <td></td>\n",
       "      <td>[]</td>\n",
       "      <td>Notify</td>\n",
       "    </tr>\n",
       "    <tr>\n",
       "      <th>3</th>\n",
       "      <td>makeup</td>\n",
       "      <td>MyGlamm Chromantic Metallic Nail Enamel - Kitt...</td>\n",
       "      <td>229</td>\n",
       "      <td>249</td>\n",
       "      <td>5 ratings</td>\n",
       "      <td>https://www.myglamm.com/product/chromantic-met...</td>\n",
       "      <td>10</td>\n",
       "      <td>Nail Makeup</td>\n",
       "      <td>Nail Polish</td>\n",
       "      <td>[Kitty Blush, Crystal Pink, New Money, Luna, G...</td>\n",
       "      <td>NOTIFY ME</td>\n",
       "    </tr>\n",
       "    <tr>\n",
       "      <th>4</th>\n",
       "      <td>makeup</td>\n",
       "      <td>MyGlamm Combo of Super Kohl Long Stay Kajal + ...</td>\n",
       "      <td>949</td>\n",
       "      <td></td>\n",
       "      <td></td>\n",
       "      <td>https://www.myglamm.com/product/myglamm-super-...</td>\n",
       "      <td></td>\n",
       "      <td>Lip Makeup</td>\n",
       "      <td>Kajal</td>\n",
       "      <td>[]</td>\n",
       "      <td>Notify</td>\n",
       "    </tr>\n",
       "    <tr>\n",
       "      <th>...</th>\n",
       "      <td>...</td>\n",
       "      <td>...</td>\n",
       "      <td>...</td>\n",
       "      <td>...</td>\n",
       "      <td>...</td>\n",
       "      <td>...</td>\n",
       "      <td>...</td>\n",
       "      <td>...</td>\n",
       "      <td>...</td>\n",
       "      <td>...</td>\n",
       "      <td>...</td>\n",
       "    </tr>\n",
       "    <tr>\n",
       "      <th>143</th>\n",
       "      <td>sanitizing-care</td>\n",
       "      <td>MyGlamm WIPEOUT Sanitizing Wipes  - 5N</td>\n",
       "      <td>69</td>\n",
       "      <td></td>\n",
       "      <td>4.9 ratings</td>\n",
       "      <td>https://www.myglamm.com/product/wipeout-saniti...</td>\n",
       "      <td>60</td>\n",
       "      <td>Sanitizing Wipes</td>\n",
       "      <td>Sanitizing-Wipes</td>\n",
       "      <td>[]</td>\n",
       "      <td>Notify</td>\n",
       "    </tr>\n",
       "    <tr>\n",
       "      <th>144</th>\n",
       "      <td>sanitizing-care</td>\n",
       "      <td>WIPEOUT Sanitizing Spray + WIPEOUT Cleansing T...</td>\n",
       "      <td>336</td>\n",
       "      <td>448</td>\n",
       "      <td></td>\n",
       "      <td>https://www.myglamm.com/product/wipeout-saniti...</td>\n",
       "      <td></td>\n",
       "      <td>Sanitizing Kits</td>\n",
       "      <td>Sanitizing-Kits</td>\n",
       "      <td>[]</td>\n",
       "      <td>WRITE A REVIEW</td>\n",
       "    </tr>\n",
       "    <tr>\n",
       "      <th>145</th>\n",
       "      <td>sanitizing-care</td>\n",
       "      <td>MyGlamm WIPEOUT Sanitizing Spray  - 200ml</td>\n",
       "      <td>199</td>\n",
       "      <td></td>\n",
       "      <td>4.9 ratings</td>\n",
       "      <td>https://www.myglamm.com/product/wipeout-saniti...</td>\n",
       "      <td>43</td>\n",
       "      <td>Sanitizing-Spray</td>\n",
       "      <td>Sanitizing-Spray</td>\n",
       "      <td>[]</td>\n",
       "      <td>Notify</td>\n",
       "    </tr>\n",
       "    <tr>\n",
       "      <th>146</th>\n",
       "      <td>sanitizing-care</td>\n",
       "      <td>MyGlamm WIPEOUT Cleansing Towels  - 10N</td>\n",
       "      <td>186</td>\n",
       "      <td>249</td>\n",
       "      <td>5 ratings</td>\n",
       "      <td>https://www.myglamm.com/product/wipeout-cleans...</td>\n",
       "      <td>71</td>\n",
       "      <td>Sanitizing Wipes</td>\n",
       "      <td>Sanitizing-Wipes</td>\n",
       "      <td>[]</td>\n",
       "      <td>Notify</td>\n",
       "    </tr>\n",
       "    <tr>\n",
       "      <th>147</th>\n",
       "      <td>sanitizing-care</td>\n",
       "      <td>Manish Malhotra Antimicrobial Sanitizing Hand ...</td>\n",
       "      <td>199</td>\n",
       "      <td></td>\n",
       "      <td>5 ratings</td>\n",
       "      <td>https://www.myglamm.com/product/manish-malhotr...</td>\n",
       "      <td>35</td>\n",
       "      <td>Hand-Sanitizer</td>\n",
       "      <td>Hand-Sanitizer</td>\n",
       "      <td>[]</td>\n",
       "      <td>Notify</td>\n",
       "    </tr>\n",
       "  </tbody>\n",
       "</table>\n",
       "<p>148 rows × 11 columns</p>\n",
       "</div>"
      ],
      "text/plain": [
       "    Product_Category                                       Product_Name  \\\n",
       "0             makeup                                                      \n",
       "1             makeup  LIT Velvet Matte Liquid Lipstick - Fake ID (Ma...   \n",
       "2             makeup       Pack of 2 Lipstick and Chromantic Nail Paint   \n",
       "3             makeup  MyGlamm Chromantic Metallic Nail Enamel - Kitt...   \n",
       "4             makeup  MyGlamm Combo of Super Kohl Long Stay Kajal + ...   \n",
       "..               ...                                                ...   \n",
       "143  sanitizing-care             MyGlamm WIPEOUT Sanitizing Wipes  - 5N   \n",
       "144  sanitizing-care  WIPEOUT Sanitizing Spray + WIPEOUT Cleansing T...   \n",
       "145  sanitizing-care          MyGlamm WIPEOUT Sanitizing Spray  - 200ml   \n",
       "146  sanitizing-care            MyGlamm WIPEOUT Cleansing Towels  - 10N   \n",
       "147  sanitizing-care  Manish Malhotra Antimicrobial Sanitizing Hand ...   \n",
       "\n",
       "    Prodcut_Selling_Price Prodcut_Mark_Price Product_Rating  \\\n",
       "0                                                             \n",
       "1                     299                375      5 ratings   \n",
       "2                     999                         5 ratings   \n",
       "3                     229                249      5 ratings   \n",
       "4                     949                                     \n",
       "..                    ...                ...            ...   \n",
       "143                    69                       4.9 ratings   \n",
       "144                   336                448                  \n",
       "145                   199                       4.9 ratings   \n",
       "146                   186                249      5 ratings   \n",
       "147                   199                         5 ratings   \n",
       "\n",
       "                                          Product_link Total_User  \\\n",
       "0    https://www.myglamm.com/product/lit-liquid-mat...              \n",
       "1    https://www.myglamm.com/product/lit-velvet-mat...       3964   \n",
       "2    https://www.myglamm.com/product/pack-of-2-lips...         66   \n",
       "3    https://www.myglamm.com/product/chromantic-met...         10   \n",
       "4    https://www.myglamm.com/product/myglamm-super-...              \n",
       "..                                                 ...        ...   \n",
       "143  https://www.myglamm.com/product/wipeout-saniti...         60   \n",
       "144  https://www.myglamm.com/product/wipeout-saniti...              \n",
       "145  https://www.myglamm.com/product/wipeout-saniti...         43   \n",
       "146  https://www.myglamm.com/product/wipeout-cleans...         71   \n",
       "147  https://www.myglamm.com/product/manish-malhotr...         35   \n",
       "\n",
       "    Product_subcategory1 Product_subcategory2  \\\n",
       "0                                               \n",
       "1             Lip Makeup      Liquid Lipstick   \n",
       "2                                               \n",
       "3            Nail Makeup          Nail Polish   \n",
       "4             Lip Makeup                Kajal   \n",
       "..                   ...                  ...   \n",
       "143     Sanitizing Wipes     Sanitizing-Wipes   \n",
       "144      Sanitizing Kits      Sanitizing-Kits   \n",
       "145     Sanitizing-Spray     Sanitizing-Spray   \n",
       "146     Sanitizing Wipes     Sanitizing-Wipes   \n",
       "147       Hand-Sanitizer       Hand-Sanitizer   \n",
       "\n",
       "                                       Product_Variety Product_Availbility  \n",
       "0                                                   []              Notify  \n",
       "1    [Fake ID, My Oh My, Yummy, Bad Guy, Senorita, ...          ADD TO BAG  \n",
       "2                                                   []              Notify  \n",
       "3    [Kitty Blush, Crystal Pink, New Money, Luna, G...           NOTIFY ME  \n",
       "4                                                   []              Notify  \n",
       "..                                                 ...                 ...  \n",
       "143                                                 []              Notify  \n",
       "144                                                 []      WRITE A REVIEW  \n",
       "145                                                 []              Notify  \n",
       "146                                                 []              Notify  \n",
       "147                                                 []              Notify  \n",
       "\n",
       "[148 rows x 11 columns]"
      ]
     },
     "execution_count": 4,
     "metadata": {},
     "output_type": "execute_result"
    }
   ],
   "source": [
    "df"
   ]
  },
  {
   "cell_type": "code",
   "execution_count": 5,
   "id": "77cb5490",
   "metadata": {},
   "outputs": [
    {
     "data": {
      "text/plain": [
       "Product_Category\n",
       "makeup             109\n",
       "bath-and-body       10\n",
       "hair-care           10\n",
       "skincare            10\n",
       "sanitizing-care      9\n",
       "Name: count, dtype: int64"
      ]
     },
     "execution_count": 5,
     "metadata": {},
     "output_type": "execute_result"
    }
   ],
   "source": [
    "df['Product_Category'].value_counts()"
   ]
  },
  {
   "cell_type": "code",
   "execution_count": 84,
   "id": "99f57dcf",
   "metadata": {},
   "outputs": [
    {
     "data": {
      "text/plain": [
       "'2992999996185092592491995063494899745091,125539499277314210759249149277249524509595487150654639445130175896186752724794902795137009749994995491458253997666542995605133758369741,0786392696392096026235905515495303119481,8756185744935335135603751,0874493114903296484871,2986799856586394853962993145593596757996256294868746306466563492996564867995615008966237997506026395992496335906396435995807994994406462365674135784543164866545465985482604006712706036514497608948695655983484386565993009709705985651,3988405491,1859995136298251,2941,294646'"
      ]
     },
     "execution_count": 84,
     "metadata": {},
     "output_type": "execute_result"
    }
   ],
   "source": [
    "df['Prodcut_Selling_Price'].sum()\n"
   ]
  },
  {
   "cell_type": "code",
   "execution_count": null,
   "id": "f1916635",
   "metadata": {},
   "outputs": [],
   "source": []
  }
 ],
 "metadata": {
  "kernelspec": {
   "display_name": "Python 3 (ipykernel)",
   "language": "python",
   "name": "python3"
  },
  "language_info": {
   "codemirror_mode": {
    "name": "ipython",
    "version": 3
   },
   "file_extension": ".py",
   "mimetype": "text/x-python",
   "name": "python",
   "nbconvert_exporter": "python",
   "pygments_lexer": "ipython3",
   "version": "3.11.5"
  }
 },
 "nbformat": 4,
 "nbformat_minor": 5
}
